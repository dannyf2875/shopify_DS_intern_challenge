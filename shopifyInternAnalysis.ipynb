{
 "cells": [
  {
   "cell_type": "code",
   "execution_count": 26,
   "metadata": {},
   "outputs": [],
   "source": [
    "import pandas as pd"
   ]
  },
  {
   "cell_type": "code",
   "execution_count": 27,
   "metadata": {},
   "outputs": [
    {
     "name": "stdout",
     "output_type": "stream",
     "text": [
      "   order_id  shop_id  user_id  order_amount  total_items payment_method  \\\n",
      "0       1.0     53.0    746.0         224.0          2.0           cash   \n",
      "1       2.0     92.0    925.0          90.0          1.0           cash   \n",
      "2       3.0     44.0    861.0         144.0          1.0           cash   \n",
      "3       4.0     18.0    935.0         156.0          1.0    credit_card   \n",
      "4       5.0     18.0    883.0         156.0          1.0    credit_card   \n",
      "\n",
      "               created_at  \n",
      "0 2017-03-13 12:36:56.190  \n",
      "1 2017-03-03 17:38:51.999  \n",
      "2 2017-03-14 04:23:55.595  \n",
      "3 2017-03-26 12:43:36.649  \n",
      "4 2017-03-01 04:35:10.773  \n"
     ]
    },
    {
     "data": {
      "text/plain": [
       "(5000, 7)"
      ]
     },
     "execution_count": 27,
     "metadata": {},
     "output_type": "execute_result"
    }
   ],
   "source": [
    "#Import data\n",
    "\n",
    "data = pd.read_excel('/Users/dannyfung/Downloads/2019 Winter Data Science Intern Challenge Data Set.xlsx')\n",
    "print(data.head())\n",
    "data.shape"
   ]
  },
  {
   "cell_type": "code",
   "execution_count": 28,
   "metadata": {},
   "outputs": [
    {
     "name": "stdout",
     "output_type": "stream",
     "text": [
      "3145.128\n"
     ]
    }
   ],
   "source": [
    "#Naive AOV\n",
    "\n",
    "mean_amount = sum(data['order_amount']) / data.shape[0]\n",
    "print(mean_amount)"
   ]
  },
  {
   "cell_type": "code",
   "execution_count": 29,
   "metadata": {},
   "outputs": [
    {
     "data": {
      "text/html": [
       "<div>\n",
       "<style scoped>\n",
       "    .dataframe tbody tr th:only-of-type {\n",
       "        vertical-align: middle;\n",
       "    }\n",
       "\n",
       "    .dataframe tbody tr th {\n",
       "        vertical-align: top;\n",
       "    }\n",
       "\n",
       "    .dataframe thead th {\n",
       "        text-align: right;\n",
       "    }\n",
       "</style>\n",
       "<table border=\"1\" class=\"dataframe\">\n",
       "  <thead>\n",
       "    <tr style=\"text-align: right;\">\n",
       "      <th></th>\n",
       "      <th>order_id</th>\n",
       "      <th>shop_id</th>\n",
       "      <th>user_id</th>\n",
       "      <th>order_amount</th>\n",
       "      <th>total_items</th>\n",
       "      <th>payment_method</th>\n",
       "      <th>created_at</th>\n",
       "      <th>order_amount_per_item</th>\n",
       "    </tr>\n",
       "  </thead>\n",
       "  <tbody>\n",
       "    <tr>\n",
       "      <th>0</th>\n",
       "      <td>1.0</td>\n",
       "      <td>53.0</td>\n",
       "      <td>746.0</td>\n",
       "      <td>224.0</td>\n",
       "      <td>2.0</td>\n",
       "      <td>cash</td>\n",
       "      <td>2017-03-13 12:36:56.190</td>\n",
       "      <td>112.0</td>\n",
       "    </tr>\n",
       "    <tr>\n",
       "      <th>1</th>\n",
       "      <td>2.0</td>\n",
       "      <td>92.0</td>\n",
       "      <td>925.0</td>\n",
       "      <td>90.0</td>\n",
       "      <td>1.0</td>\n",
       "      <td>cash</td>\n",
       "      <td>2017-03-03 17:38:51.999</td>\n",
       "      <td>90.0</td>\n",
       "    </tr>\n",
       "    <tr>\n",
       "      <th>2</th>\n",
       "      <td>3.0</td>\n",
       "      <td>44.0</td>\n",
       "      <td>861.0</td>\n",
       "      <td>144.0</td>\n",
       "      <td>1.0</td>\n",
       "      <td>cash</td>\n",
       "      <td>2017-03-14 04:23:55.595</td>\n",
       "      <td>144.0</td>\n",
       "    </tr>\n",
       "    <tr>\n",
       "      <th>3</th>\n",
       "      <td>4.0</td>\n",
       "      <td>18.0</td>\n",
       "      <td>935.0</td>\n",
       "      <td>156.0</td>\n",
       "      <td>1.0</td>\n",
       "      <td>credit_card</td>\n",
       "      <td>2017-03-26 12:43:36.649</td>\n",
       "      <td>156.0</td>\n",
       "    </tr>\n",
       "    <tr>\n",
       "      <th>4</th>\n",
       "      <td>5.0</td>\n",
       "      <td>18.0</td>\n",
       "      <td>883.0</td>\n",
       "      <td>156.0</td>\n",
       "      <td>1.0</td>\n",
       "      <td>credit_card</td>\n",
       "      <td>2017-03-01 04:35:10.773</td>\n",
       "      <td>156.0</td>\n",
       "    </tr>\n",
       "  </tbody>\n",
       "</table>\n",
       "</div>"
      ],
      "text/plain": [
       "   order_id  shop_id  user_id  order_amount  total_items payment_method  \\\n",
       "0       1.0     53.0    746.0         224.0          2.0           cash   \n",
       "1       2.0     92.0    925.0          90.0          1.0           cash   \n",
       "2       3.0     44.0    861.0         144.0          1.0           cash   \n",
       "3       4.0     18.0    935.0         156.0          1.0    credit_card   \n",
       "4       5.0     18.0    883.0         156.0          1.0    credit_card   \n",
       "\n",
       "               created_at  order_amount_per_item  \n",
       "0 2017-03-13 12:36:56.190                  112.0  \n",
       "1 2017-03-03 17:38:51.999                   90.0  \n",
       "2 2017-03-14 04:23:55.595                  144.0  \n",
       "3 2017-03-26 12:43:36.649                  156.0  \n",
       "4 2017-03-01 04:35:10.773                  156.0  "
      ]
     },
     "execution_count": 29,
     "metadata": {},
     "output_type": "execute_result"
    }
   ],
   "source": [
    "#Create new per unit cost field (order_amount / total_items)\n",
    "\n",
    "data['order_amount_per_item'] = data['order_amount'] / data['total_items']\n",
    "data.head()"
   ]
  },
  {
   "cell_type": "code",
   "execution_count": 39,
   "metadata": {},
   "outputs": [
    {
     "name": "stdout",
     "output_type": "stream",
     "text": [
      "(3170, 8)\n"
     ]
    }
   ],
   "source": [
    "#orders with total_items > 1\n",
    "\n",
    "print(data.loc[data['total_items']> 1.0].shape)"
   ]
  },
  {
   "cell_type": "code",
   "execution_count": 30,
   "metadata": {},
   "outputs": [
    {
     "name": "stdout",
     "output_type": "stream",
     "text": [
      "True\n"
     ]
    }
   ],
   "source": [
    "#Verify that the per unit price (order_amount_per_item) is consistent for every shop \n",
    "\n",
    "shop_ids = set(data['shop_id'])\n",
    "#print(shop_ids)\n",
    "\n",
    "for id in shop_ids:\n",
    "    check = {}\n",
    "    sub_data = data.loc[data['shop_id']==id]\n",
    "    if len(set(sub_data['order_amount_per_item'])) != 1:\n",
    "        check[id] = list(set(sub_data['order_amount_per_item']))\n",
    "    else:\n",
    "        pass\n",
    "\n",
    "print(len(check) == 0)"
   ]
  },
  {
   "cell_type": "code",
   "execution_count": 35,
   "metadata": {},
   "outputs": [
    {
     "name": "stdout",
     "output_type": "stream",
     "text": [
      "$ 357.92\n"
     ]
    }
   ],
   "source": [
    "#Possible AOV #1 - sum of order amounts / sum of total items sold\n",
    "\n",
    "new_mean = sum(data['order_amount'])/sum(data['total_items'])\n",
    "print('$',round(new_mean,2))"
   ]
  },
  {
   "cell_type": "code",
   "execution_count": 40,
   "metadata": {},
   "outputs": [
    {
     "name": "stdout",
     "output_type": "stream",
     "text": [
      "$ 387.74\n"
     ]
    }
   ],
   "source": [
    "#Possible AOV #2 - sum of per unit cost per order / sum of total number of orders\n",
    "\n",
    "new_mean1 = sum(data['order_amount_per_item'])/data.shape[0]\n",
    "print('$',round(new_mean1,2))"
   ]
  },
  {
   "cell_type": "code",
   "execution_count": null,
   "metadata": {},
   "outputs": [],
   "source": [
    "'''The naive AOV calculation works if the total_items per order always 1. However, since there are over 3000 orders with more than 1 item, the order_amount for these orders will be larger \n",
    "and results in the anomalous $3145.13 AOV. \n",
    "\n",
    "Instead, we can calculate a more reasonable AOV by taking the ratio of the sum of the order_amount column and the sum of the total_items column. This calculation comes out to be $357.92 and \n",
    "provides the average price per item sold per order.\n",
    "\n",
    "Alternatively, another AOV calculation was taking the ratio of the sum of the order_amount_per_item column and total number of orders. The value comes out to be $387.74 and represents the average\n",
    "shoe price of all shoe purchases made in the 100 sneaker shops over the 30 day window. This number will fluctuate depending on which store gets more orders and does not depend on the number of \n",
    "units purchased per order.'''"
   ]
  }
 ],
 "metadata": {
  "interpreter": {
   "hash": "aee8b7b246df8f9039afb4144a1f6fd8d2ca17a180786b69acc140d282b71a49"
  },
  "kernelspec": {
   "display_name": "Python 3.9.6 64-bit",
   "language": "python",
   "name": "python3"
  },
  "language_info": {
   "codemirror_mode": {
    "name": "ipython",
    "version": 3
   },
   "file_extension": ".py",
   "mimetype": "text/x-python",
   "name": "python",
   "nbconvert_exporter": "python",
   "pygments_lexer": "ipython3",
   "version": "3.9.6"
  },
  "orig_nbformat": 4
 },
 "nbformat": 4,
 "nbformat_minor": 2
}
